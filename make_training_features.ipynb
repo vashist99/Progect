{
 "cells": [
  {
   "cell_type": "code",
   "execution_count": 1,
   "metadata": {},
   "outputs": [],
   "source": [
    "import csv\n",
    "import sys\n",
    "import math\n",
    "import os\n",
    "import librosa\n",
    "import numpy as np\n",
    "import matplotlib\n",
    "matplotlib.use('TkAgg')\n",
    "import matplotlib.pyplot as plt\n",
    "sys.setrecursionlimit(10000)\n"
   ]
  },
  {
   "cell_type": "code",
   "execution_count": 2,
   "metadata": {},
   "outputs": [],
   "source": [
    "import glob\n",
    "import os\n",
    "# reading training data\n",
    "current_working_directory = os.getcwd()\n",
    "\n",
    "base_path = current_working_directory + '/CAP6610SP24_training_set/'\n",
    "prog_path = base_path + 'Progressive_Rock_Songs/'\n",
    "non_prog_path = base_path + 'Not_Progressive_Rock/'\n",
    "\n",
    "def fileList(path):\n",
    "    matches = glob.glob(path + '/**/*', recursive=True)\n",
    "    files = [file for file in matches if os.path.isfile(file) and file.endswith(('.wav', '.mp3', '.avi', '.flac', '.ogg', '.m4a', '.wma', '.mp4'))]\n",
    "    return files\n",
    "\n",
    "prog_files = fileList(prog_path)\n",
    "non_prog_files = fileList(non_prog_path)\n",
    "\n",
    "def get_prog_files():\n",
    "    return prog_files\n",
    "\n",
    "def get_non_prog_files():\n",
    "    return non_prog_files"
   ]
  },
  {
   "cell_type": "code",
   "execution_count": 3,
   "metadata": {},
   "outputs": [
    {
     "name": "stdout",
     "output_type": "stream",
     "text": [
      "Number of Progressive Rock Songs:  142\n",
      "Number of Non-Progressive Rock Songs:  359\n"
     ]
    }
   ],
   "source": [
    "prog_files = get_prog_files()\n",
    "non_prog_files = get_non_prog_files()\n",
    "\n",
    "print(\"Number of Progressive Rock Songs: \", len(prog_files))\n",
    "print(\"Number of Non-Progressive Rock Songs: \", len(non_prog_files))"
   ]
  },
  {
   "cell_type": "code",
   "execution_count": 4,
   "metadata": {},
   "outputs": [
    {
     "name": "stderr",
     "output_type": "stream",
     "text": [
      "Note: Illegal Audio-MPEG-Header 0x4c595249 at offset 20630146.\n",
      "Note: Trying to resync...\n",
      "Note: Hit end of (available) data during resync.\n",
      "[src/libmpg123/id3.c:process_comment():584] error: No comment text / valid description?\n",
      "[src/libmpg123/id3.c:process_comment():584] error: No comment text / valid description?\n",
      "[src/libmpg123/id3.c:process_comment():584] error: No comment text / valid description?\n",
      "[src/libmpg123/id3.c:process_comment():584] error: No comment text / valid description?\n",
      "[src/libmpg123/id3.c:process_comment():584] error: No comment text / valid description?\n",
      "[src/libmpg123/id3.c:process_comment():584] error: No comment text / valid description?\n",
      "[src/libmpg123/layer3.c:INT123_do_layer3():1801] error: dequantization failed!\n",
      "Note: Illegal Audio-MPEG-Header 0x4f09842e at offset 3049050.\n",
      "Note: Trying to resync...\n",
      "/var/folders/m0/0p062cxn2rvbyqh1m3h8cb4c0000gn/T/ipykernel_75353/4035985224.py:7: UserWarning: PySoundFile failed. Trying audioread instead.\n",
      "  y, sr = librosa.load(all_files[i], sr=fixed_sample_rate)\n",
      "/Users/harlow/.local/share/virtualenvs/Progect-tV540T77/lib/python3.11/site-packages/librosa/core/audio.py:183: FutureWarning: librosa.core.audio.__audioread_load\n",
      "\tDeprecated as of librosa version 0.10.0.\n",
      "\tIt will be removed in librosa version 1.0.\n",
      "  y, sr_native = __audioread_load(path, offset, duration, dtype)\n",
      "Note: Skipped 1024 bytes in input.\n",
      "[src/libmpg123/parse.c:wetwork():1365] error: Giving up resync after 1024 bytes - your stream is not nice... (maybe increasing resync limit could help).\n",
      "[src/libmpg123/id3.c:process_comment():584] error: No comment text / valid description?\n",
      "[src/libmpg123/id3.c:process_comment():584] error: No comment text / valid description?\n",
      "[src/libmpg123/id3.c:process_comment():584] error: No comment text / valid description?\n",
      "Note: Illegal Audio-MPEG-Header 0x4c595249 at offset 7797061.\n",
      "Note: Trying to resync...\n",
      "Note: Hit end of (available) data during resync.\n",
      "Note: Illegal Audio-MPEG-Header 0x00000000 at offset 2806046.\n",
      "Note: Trying to resync...\n",
      "Note: Hit end of (available) data during resync.\n",
      "[src/libmpg123/id3.c:process_comment():584] error: No comment text / valid description?\n",
      "Note: Illegal Audio-MPEG-Header 0x00544147 at offset 3412749.\n",
      "Note: Trying to resync...\n",
      "Note: Hit end of (available) data during resync.\n",
      "[src/libmpg123/id3.c:process_comment():584] error: No comment text / valid description?\n",
      "[src/libmpg123/id3.c:process_comment():584] error: No comment text / valid description?\n",
      "[src/libmpg123/id3.c:process_comment():584] error: No comment text / valid description?\n",
      "Note: Illegal Audio-MPEG-Header 0x42696c6c at offset 3302120.\n",
      "Note: Trying to resync...\n",
      "Note: Hit end of (available) data during resync.\n",
      "[src/libmpg123/id3.c:process_comment():584] error: No comment text / valid description?\n",
      "Note: Illegal Audio-MPEG-Header 0x4c595249 at offset 8066079.\n",
      "Note: Trying to resync...\n",
      "Note: Hit end of (available) data during resync.\n",
      "Note: Illegal Audio-MPEG-Header 0x00000000 at offset 5460065.\n",
      "Note: Trying to resync...\n",
      "Note: Hit end of (available) data during resync.\n",
      "[src/libmpg123/id3.c:process_comment():584] error: No comment text / valid description?\n",
      "[src/libmpg123/id3.c:process_comment():584] error: No comment text / valid description?\n",
      "Note: Illegal Audio-MPEG-Header 0x4c595249 at offset 8933388.\n",
      "Note: Trying to resync...\n",
      "Note: Hit end of (available) data during resync.\n",
      "Note: Illegal Audio-MPEG-Header 0x040cfffb at offset 7708883.\n",
      "Note: Trying to resync...\n",
      "Note: Skipped 2 bytes in input.\n",
      "[src/libmpg123/layer3.c:INT123_do_layer3():1801] error: dequantization failed!\n",
      "Note: Illegal Audio-MPEG-Header 0xb0049200 at offset 7710137.\n",
      "Note: Trying to resync...\n",
      "Note: Skipped 285 bytes in input.\n",
      "[src/libmpg123/id3.c:process_comment():584] error: No comment text / valid description?\n",
      "[src/libmpg123/id3.c:process_comment():584] error: No comment text / valid description?\n",
      "[src/libmpg123/layer3.c:INT123_do_layer3():1801] error: dequantization failed!\n",
      "Note: Illegal Audio-MPEG-Header 0x00000000 at offset 8848353.\n",
      "Note: Trying to resync...\n",
      "Note: Skipped 1024 bytes in input.\n",
      "[src/libmpg123/parse.c:wetwork():1365] error: Giving up resync after 1024 bytes - your stream is not nice... (maybe increasing resync limit could help).\n",
      "[src/libmpg123/id3.c:process_comment():584] error: No comment text / valid description?\n",
      "[src/libmpg123/id3.c:process_comment():584] error: No comment text / valid description?\n",
      "Note: Illegal Audio-MPEG-Header 0x00000000 at offset 10147253.\n",
      "Note: Trying to resync...\n",
      "Note: Hit end of (available) data during resync.\n",
      "Note: Illegal Audio-MPEG-Header 0x46656174 at offset 5182435.\n",
      "Note: Trying to resync...\n",
      "Note: Hit end of (available) data during resync.\n",
      "[src/libmpg123/id3.c:process_comment():584] error: No comment text / valid description?\n",
      "Note: Illegal Audio-MPEG-Header 0x4c595249 at offset 18882356.\n",
      "Note: Trying to resync...\n",
      "Note: Hit end of (available) data during resync.\n",
      "[src/libmpg123/id3.c:process_comment():584] error: No comment text / valid description?\n",
      "[src/libmpg123/id3.c:process_comment():584] error: No comment text / valid description?\n",
      "Note: Illegal Audio-MPEG-Header 0x4c595249 at offset 10880470.\n",
      "Note: Trying to resync...\n",
      "Note: Hit end of (available) data during resync.\n",
      "Note: Illegal Audio-MPEG-Header 0x00000000 at offset 10986313.\n",
      "Note: Trying to resync...\n",
      "Note: Hit end of (available) data during resync.\n"
     ]
    },
    {
     "name": "stdout",
     "output_type": "stream",
     "text": [
      "Minimum Duration:  37\n"
     ]
    }
   ],
   "source": [
    "all_files = prog_files + non_prog_files\n",
    "fixed_sample_rate = 44100\n",
    "\n",
    "\n",
    "min_duration = 0\n",
    "for i in range (len(all_files)):\n",
    "    y, sr = librosa.load(all_files[i], sr=fixed_sample_rate)\n",
    "    duration = librosa.get_duration(y=y, sr=sr)\n",
    "    if i == 0:\n",
    "        min_duration = duration\n",
    "    else:\n",
    "        min_duration = min(min_duration, duration)\n",
    "min_duration = int(math.floor(min_duration))\n",
    "print(\"Minimum Duration: \", min_duration)\n"
   ]
  },
  {
   "cell_type": "code",
   "execution_count": 5,
   "metadata": {},
   "outputs": [
    {
     "name": "stdout",
     "output_type": "stream",
     "text": [
      "24\n",
      "17\n",
      "17\n",
      "21\n",
      "17\n",
      "14\n",
      "17\n",
      "45\n",
      "15\n",
      "39\n",
      "17\n",
      "33\n",
      "17\n",
      "48\n",
      "24\n"
     ]
    },
    {
     "name": "stderr",
     "output_type": "stream",
     "text": [
      "Note: Illegal Audio-MPEG-Header 0x4c595249 at offset 20630146.\n",
      "Note: Trying to resync...\n",
      "Note: Hit end of (available) data during resync.\n"
     ]
    },
    {
     "name": "stdout",
     "output_type": "stream",
     "text": [
      "17\n",
      "25\n",
      "13\n",
      "13\n",
      "35\n",
      "41\n",
      "35\n",
      "17\n",
      "15\n",
      "16\n",
      "33\n"
     ]
    },
    {
     "name": "stderr",
     "output_type": "stream",
     "text": [
      "[src/libmpg123/id3.c:process_comment():584] error: No comment text / valid description?\n"
     ]
    },
    {
     "name": "stdout",
     "output_type": "stream",
     "text": [
      "17\n",
      "10\n",
      "45\n",
      "34\n",
      "24\n",
      "17\n",
      "18\n",
      "16\n",
      "51\n",
      "18\n",
      "49\n",
      "28\n",
      "27\n",
      "41\n",
      "20\n",
      "15\n",
      "41\n",
      "7\n",
      "46\n",
      "13\n",
      "87\n",
      "14\n",
      "8\n",
      "8\n",
      "20\n",
      "27\n",
      "22\n",
      "31\n"
     ]
    },
    {
     "name": "stderr",
     "output_type": "stream",
     "text": [
      "[src/libmpg123/id3.c:process_comment():584] error: No comment text / valid description?\n"
     ]
    },
    {
     "name": "stdout",
     "output_type": "stream",
     "text": [
      "18\n",
      "9\n",
      "19\n",
      "14\n",
      "24\n",
      "27\n",
      "13\n",
      "25\n",
      "21\n",
      "15\n",
      "7\n",
      "17\n",
      "23\n",
      "40\n",
      "16\n",
      "33\n",
      "22\n",
      "53\n",
      "19\n",
      "18\n",
      "10\n",
      "41\n",
      "21\n",
      "21\n",
      "8\n",
      "37\n",
      "13\n"
     ]
    },
    {
     "name": "stderr",
     "output_type": "stream",
     "text": [
      "[src/libmpg123/id3.c:process_comment():584] error: No comment text / valid description?\n"
     ]
    },
    {
     "name": "stdout",
     "output_type": "stream",
     "text": [
      "46\n",
      "60\n"
     ]
    },
    {
     "name": "stderr",
     "output_type": "stream",
     "text": [
      "/Users/harlow/.local/share/virtualenvs/Progect-tV540T77/lib/python3.11/site-packages/librosa/core/pitch.py:101: UserWarning: Trying to estimate tuning from empty frequency set.\n",
      "  return pitch_tuning(\n"
     ]
    },
    {
     "name": "stdout",
     "output_type": "stream",
     "text": [
      "11\n",
      "34\n",
      "46\n",
      "50\n",
      "12\n",
      "8\n",
      "19\n",
      "16\n",
      "60\n",
      "32\n",
      "11\n",
      "18\n",
      "46\n",
      "17\n",
      "14\n",
      "11\n",
      "13\n",
      "31\n",
      "14\n",
      "3\n",
      "18\n"
     ]
    },
    {
     "name": "stderr",
     "output_type": "stream",
     "text": [
      "[src/libmpg123/id3.c:process_comment():584] error: No comment text / valid description?\n"
     ]
    },
    {
     "name": "stdout",
     "output_type": "stream",
     "text": [
      "12\n",
      "9\n",
      "14\n",
      "25\n",
      "11\n",
      "14\n"
     ]
    },
    {
     "name": "stderr",
     "output_type": "stream",
     "text": [
      "[src/libmpg123/id3.c:process_comment():584] error: No comment text / valid description?\n"
     ]
    },
    {
     "name": "stdout",
     "output_type": "stream",
     "text": [
      "15\n",
      "7\n",
      "31\n",
      "14\n",
      "40\n",
      "10\n",
      "19\n",
      "17\n",
      "9\n",
      "20\n",
      "38\n",
      "20\n",
      "23\n",
      "8\n",
      "15\n",
      "26\n",
      "19\n",
      "43\n",
      "24\n",
      "19\n",
      "21\n",
      "13\n",
      "23\n",
      "41\n",
      "8\n",
      "14\n",
      "22\n",
      "17\n",
      "9\n"
     ]
    },
    {
     "name": "stderr",
     "output_type": "stream",
     "text": [
      "[src/libmpg123/id3.c:process_comment():584] error: No comment text / valid description?\n"
     ]
    },
    {
     "name": "stdout",
     "output_type": "stream",
     "text": [
      "16\n",
      "45\n",
      "11\n"
     ]
    }
   ],
   "source": [
    "# feature extraction\n",
    "min_duration = 30\n",
    "\n",
    "file = open('training_features_30.csv', 'w', newline='')\n",
    "header = ['filename','genre', 'chroma_stft', 'rmse', 'spectral_centroid', 'spectral_bandwidth', 'rolloff', 'zero_crossing_rate']\n",
    "\n",
    "for i in range (1, 21):\n",
    "    header.append('mfcc'+str(i))\n",
    "\n",
    "# writing giles to error.txt\n",
    "error_file = open('error.txt', 'w')\n",
    "error_file.close()\n",
    "with file:\n",
    "    writer = csv.writer(file)\n",
    "    writer.writerow(header)\n",
    "\n",
    "genre = \"prog\"\n",
    "count = 0\n",
    "# time_series_length = 30\n",
    "\n",
    "\n",
    "for i in range (len(prog_files)):\n",
    "    filename = prog_files[i]\n",
    "    name = (filename.split('/')[-1]).replace(\" \", \"_\")\n",
    "\n",
    "    try: \n",
    "        y, sr = librosa.load(filename, sr=fixed_sample_rate)\n",
    "        time = librosa.get_duration(y=y, sr=sr)\n",
    "        chunks = []\n",
    "        if time > min_duration:\n",
    "            org_y = y\n",
    "            iter = math.floor (time /min_duration)\n",
    "            print(iter)\n",
    "            current_size = time*fixed_sample_rate\n",
    "            chunk_size = min_duration*fixed_sample_rate\n",
    "            start = 0\n",
    "            end = chunk_size\n",
    "            chunk_index = 1\n",
    "\n",
    "            while iter !=0: \n",
    "                count += 1\n",
    "                chunk = y[start:end]\n",
    "\n",
    "                chroma_stft = librosa.feature.chroma_stft(y=chunk, sr=sr)\n",
    "                spec_cent = librosa.feature.spectral_centroid(y=chunk, sr=sr)\n",
    "                spec_bw = librosa.feature.spectral_bandwidth(y=chunk, sr=sr)\n",
    "                rmse = librosa.feature.rms(y=chunk)\n",
    "                rolloff = librosa.feature.spectral_rolloff(y=chunk, sr=sr)\n",
    "                zcr = 10**10*np.mean(librosa.zero_crossings(org_y)/len(org_y))\n",
    "                mfcc = librosa.feature.mfcc(y=chunk, sr=sr)\n",
    "                to_append = f'{\"prog\"+name+\"chunk\"+str(chunk_index)} {genre} {np.mean(chroma_stft)} {np.mean(rmse)} {np.mean(spec_cent)} {np.mean(spec_bw)} {np.mean(rolloff)} {np.mean(zcr)}'\n",
    "\n",
    "                # append all the 20 rows\n",
    "                for e in mfcc:\n",
    "                    to_append += f' {np.mean(e)}'\n",
    "                \n",
    "                file = open('training_features_30.csv', 'a', newline='')\n",
    "                with file:\n",
    "                    writer = csv.writer(file)\n",
    "                    writer.writerow(to_append.split())\n",
    "\n",
    "                \n",
    "                # display spectrogram\n",
    "                \n",
    "                # spect = librosa.feature.melspectrogram(y=chunk, sr=sr, n_fft=2048, hop_length=512)\n",
    "                # spect = librosa.power_to_db(spect, ref=np.max)\n",
    "                # plt.figure(figsize=(12, 8))\n",
    "                # plit.axis('off')\n",
    "                # librosa.display.specshow(spect, y_axis='mel', fmax=8000, x_axis='time')\n",
    "                # plt.show()\n",
    "                \n",
    "                chunk_index += 1\n",
    "\n",
    "                start = end\n",
    "                end = end + chunk_size\n",
    "                iter -= 1\n",
    "        else :\n",
    "            count += 1\n",
    "            y, sr = librosa.load(filename, sr=fixed_sample_rate, duration=min_duration)\n",
    "            chroma_stft = librosa.feature.chroma_stft(y=y, sr=sr)\n",
    "            spec_cent = librosa.feature.spectral_centroid(y=y, sr=sr)\n",
    "            spec_bw = librosa.feature.spectral_bandwidth(y=y, sr=sr)\n",
    "            rmse = librosa.feature.rms(y=y)\n",
    "            rolloff = librosa.feature.spectral_rolloff(y=y, sr=sr)\n",
    "            zcr = 10**10*np.mean(librosa.zero_crossings(y)/len(y))\n",
    "            mfcc = librosa.feature.mfcc(y=y, sr=sr)\n",
    "            to_append = f'{\"prog\"+name} {genre} {np.mean(chroma_stft)} {np.mean(rmse)} {np.mean(spec_cent)} {np.mean(spec_bw)} {np.mean(rolloff)} {np.mean(zcr)}'\n",
    "\n",
    "            # append all the 20 rows\n",
    "            for e in mfcc:\n",
    "                to_append += f' {np.mean(e)}'\n",
    "            \n",
    "            file = open('training_features_30.csv', 'a', newline='')\n",
    "            with file:\n",
    "                writer = csv.writer(file)\n",
    "                writer.writerow(to_append.split())\n",
    "\n",
    "            \n",
    "            # display spectrogram\n",
    "            # spect = librosa.feature.melspectrogram(y=y, sr=sr, n_fft=2048, hop_length=512)\n",
    "            # spect = librosa.power_to_db(spect, ref=np.max)\n",
    "            # plt.figure(figsize=(12, 8))\n",
    "            # plt.axis('off')\n",
    "            # librosa.display.specshow(spect, y_axis='mel', fmax=8000, x_axis='time')\n",
    "            # plt.show()\n",
    "    \n",
    "    except Exception as e:\n",
    "        print('error handled')\n",
    "        error_file = open('error.txt', 'a')\n",
    "        error_file.write(filename + '\\n')\n",
    "        error_file.write(str(e) + '\\n')\n",
    "        error_file.close()\n",
    "        continue\n",
    "                    \n",
    "\n"
   ]
  },
  {
   "cell_type": "code",
   "execution_count": 6,
   "metadata": {},
   "outputs": [
    {
     "name": "stdout",
     "output_type": "stream",
     "text": [
      "6\n",
      "12\n",
      "8\n"
     ]
    },
    {
     "name": "stderr",
     "output_type": "stream",
     "text": [
      "[src/libmpg123/layer3.c:INT123_do_layer3():1801] error: dequantization failed!\n",
      "Note: Illegal Audio-MPEG-Header 0x4f09842e at offset 3049050.\n",
      "Note: Trying to resync...\n",
      "Note: Skipped 1024 bytes in input.\n",
      "[src/libmpg123/parse.c:wetwork():1365] error: Giving up resync after 1024 bytes - your stream is not nice... (maybe increasing resync limit could help).\n",
      "/var/folders/m0/0p062cxn2rvbyqh1m3h8cb4c0000gn/T/ipykernel_75353/8423655.py:11: UserWarning: PySoundFile failed. Trying audioread instead.\n",
      "  y, sr = librosa.load(filename, sr=fixed_sample_rate)\n",
      "/Users/harlow/.local/share/virtualenvs/Progect-tV540T77/lib/python3.11/site-packages/librosa/core/audio.py:183: FutureWarning: librosa.core.audio.__audioread_load\n",
      "\tDeprecated as of librosa version 0.10.0.\n",
      "\tIt will be removed in librosa version 1.0.\n",
      "  y, sr_native = __audioread_load(path, offset, duration, dtype)\n"
     ]
    },
    {
     "name": "stdout",
     "output_type": "stream",
     "text": [
      "2\n"
     ]
    },
    {
     "name": "stderr",
     "output_type": "stream",
     "text": [
      "[src/libmpg123/id3.c:process_comment():584] error: No comment text / valid description?\n"
     ]
    },
    {
     "name": "stdout",
     "output_type": "stream",
     "text": [
      "7\n",
      "7\n"
     ]
    },
    {
     "name": "stderr",
     "output_type": "stream",
     "text": [
      "[src/libmpg123/id3.c:process_comment():584] error: No comment text / valid description?\n"
     ]
    },
    {
     "name": "stdout",
     "output_type": "stream",
     "text": [
      "4\n",
      "6\n"
     ]
    },
    {
     "name": "stderr",
     "output_type": "stream",
     "text": [
      "[src/libmpg123/id3.c:process_comment():584] error: No comment text / valid description?\n"
     ]
    },
    {
     "name": "stdout",
     "output_type": "stream",
     "text": [
      "6\n",
      "6\n",
      "7\n",
      "17\n"
     ]
    },
    {
     "name": "stderr",
     "output_type": "stream",
     "text": [
      "Note: Illegal Audio-MPEG-Header 0x4c595249 at offset 7797061.\n",
      "Note: Trying to resync...\n",
      "Note: Hit end of (available) data during resync.\n"
     ]
    },
    {
     "name": "stdout",
     "output_type": "stream",
     "text": [
      "6\n",
      "6\n",
      "12\n",
      "6\n",
      "5\n",
      "11\n",
      "9\n",
      "10\n",
      "7\n",
      "11\n",
      "7\n",
      "6\n",
      "14\n"
     ]
    },
    {
     "name": "stderr",
     "output_type": "stream",
     "text": [
      "Note: Illegal Audio-MPEG-Header 0x00000000 at offset 2806046.\n",
      "Note: Trying to resync...\n",
      "Note: Hit end of (available) data during resync.\n"
     ]
    },
    {
     "name": "stdout",
     "output_type": "stream",
     "text": [
      "5\n",
      "6\n",
      "6\n",
      "5\n",
      "7\n",
      "11\n",
      "7\n",
      "11\n",
      "4\n",
      "8\n",
      "13\n",
      "8\n",
      "7\n",
      "13\n",
      "4\n",
      "6\n",
      "9\n",
      "8\n",
      "11\n",
      "4\n",
      "8\n",
      "6\n",
      "7\n",
      "9\n",
      "11\n",
      "8\n"
     ]
    },
    {
     "name": "stderr",
     "output_type": "stream",
     "text": [
      "[src/libmpg123/id3.c:process_comment():584] error: No comment text / valid description?\n"
     ]
    },
    {
     "name": "stdout",
     "output_type": "stream",
     "text": [
      "5\n",
      "7\n",
      "5\n",
      "8\n",
      "7\n",
      "5\n",
      "5\n",
      "7\n",
      "8\n"
     ]
    },
    {
     "name": "stderr",
     "output_type": "stream",
     "text": [
      "Note: Illegal Audio-MPEG-Header 0x00544147 at offset 3412749.\n",
      "Note: Trying to resync...\n",
      "Note: Hit end of (available) data during resync.\n"
     ]
    },
    {
     "name": "stdout",
     "output_type": "stream",
     "text": [
      "7\n",
      "6\n",
      "6\n",
      "9\n",
      "6\n",
      "7\n",
      "1\n"
     ]
    },
    {
     "name": "stderr",
     "output_type": "stream",
     "text": [
      "[src/libmpg123/id3.c:process_comment():584] error: No comment text / valid description?\n"
     ]
    },
    {
     "name": "stdout",
     "output_type": "stream",
     "text": [
      "6\n"
     ]
    },
    {
     "name": "stderr",
     "output_type": "stream",
     "text": [
      "[src/libmpg123/id3.c:process_comment():584] error: No comment text / valid description?\n"
     ]
    },
    {
     "name": "stdout",
     "output_type": "stream",
     "text": [
      "10\n"
     ]
    },
    {
     "name": "stderr",
     "output_type": "stream",
     "text": [
      "[src/libmpg123/id3.c:process_comment():584] error: No comment text / valid description?\n",
      "Note: Illegal Audio-MPEG-Header 0x42696c6c at offset 3302120.\n",
      "Note: Trying to resync...\n",
      "Note: Hit end of (available) data during resync.\n"
     ]
    },
    {
     "name": "stdout",
     "output_type": "stream",
     "text": [
      "4\n",
      "8\n",
      "5\n",
      "6\n",
      "4\n"
     ]
    },
    {
     "name": "stderr",
     "output_type": "stream",
     "text": [
      "[src/libmpg123/id3.c:process_comment():584] error: No comment text / valid description?\n"
     ]
    },
    {
     "name": "stdout",
     "output_type": "stream",
     "text": [
      "8\n",
      "7\n",
      "7\n",
      "6\n",
      "5\n",
      "11\n",
      "7\n",
      "7\n"
     ]
    },
    {
     "name": "stderr",
     "output_type": "stream",
     "text": [
      "Note: Illegal Audio-MPEG-Header 0x4c595249 at offset 8066079.\n",
      "Note: Trying to resync...\n",
      "Note: Hit end of (available) data during resync.\n"
     ]
    },
    {
     "name": "stdout",
     "output_type": "stream",
     "text": [
      "11\n",
      "5\n"
     ]
    },
    {
     "name": "stderr",
     "output_type": "stream",
     "text": [
      "Note: Illegal Audio-MPEG-Header 0x00000000 at offset 5460065.\n",
      "Note: Trying to resync...\n",
      "Note: Hit end of (available) data during resync.\n"
     ]
    },
    {
     "name": "stdout",
     "output_type": "stream",
     "text": [
      "7\n",
      "7\n",
      "5\n",
      "7\n",
      "6\n",
      "3\n",
      "14\n",
      "10\n",
      "8\n",
      "26\n"
     ]
    },
    {
     "name": "stderr",
     "output_type": "stream",
     "text": [
      "[src/libmpg123/id3.c:process_comment():584] error: No comment text / valid description?\n"
     ]
    },
    {
     "name": "stdout",
     "output_type": "stream",
     "text": [
      "9\n"
     ]
    },
    {
     "name": "stderr",
     "output_type": "stream",
     "text": [
      "[src/libmpg123/id3.c:process_comment():584] error: No comment text / valid description?\n"
     ]
    },
    {
     "name": "stdout",
     "output_type": "stream",
     "text": [
      "6\n",
      "6\n",
      "10\n",
      "6\n",
      "12\n",
      "11\n",
      "7\n",
      "8\n"
     ]
    },
    {
     "name": "stderr",
     "output_type": "stream",
     "text": [
      "Note: Illegal Audio-MPEG-Header 0x4c595249 at offset 8933388.\n",
      "Note: Trying to resync...\n",
      "Note: Hit end of (available) data during resync.\n"
     ]
    },
    {
     "name": "stdout",
     "output_type": "stream",
     "text": [
      "7\n",
      "7\n",
      "4\n",
      "5\n",
      "7\n",
      "17\n",
      "7\n",
      "18\n",
      "8\n",
      "10\n",
      "6\n",
      "6\n",
      "11\n",
      "7\n",
      "8\n",
      "9\n",
      "20\n",
      "4\n",
      "19\n",
      "10\n",
      "5\n",
      "6\n",
      "12\n",
      "6\n",
      "4\n",
      "10\n",
      "8\n",
      "4\n",
      "34\n",
      "15\n",
      "13\n",
      "8\n",
      "7\n",
      "11\n",
      "9\n",
      "8\n",
      "6\n",
      "7\n",
      "15\n",
      "7\n",
      "5\n",
      "13\n",
      "3\n",
      "13\n"
     ]
    },
    {
     "name": "stderr",
     "output_type": "stream",
     "text": [
      "Note: Illegal Audio-MPEG-Header 0x040cfffb at offset 7708883.\n",
      "Note: Trying to resync...\n",
      "Note: Skipped 2 bytes in input.\n",
      "[src/libmpg123/layer3.c:INT123_do_layer3():1801] error: dequantization failed!\n",
      "Note: Illegal Audio-MPEG-Header 0xb0049200 at offset 7710137.\n",
      "Note: Trying to resync...\n",
      "Note: Skipped 285 bytes in input.\n"
     ]
    },
    {
     "name": "stdout",
     "output_type": "stream",
     "text": [
      "10\n",
      "6\n",
      "6\n",
      "7\n",
      "9\n",
      "10\n",
      "12\n",
      "8\n",
      "12\n",
      "5\n",
      "7\n",
      "8\n",
      "7\n",
      "11\n",
      "8\n",
      "15\n",
      "8\n"
     ]
    },
    {
     "name": "stderr",
     "output_type": "stream",
     "text": [
      "[src/libmpg123/id3.c:process_comment():584] error: No comment text / valid description?\n"
     ]
    },
    {
     "name": "stdout",
     "output_type": "stream",
     "text": [
      "13\n"
     ]
    },
    {
     "name": "stderr",
     "output_type": "stream",
     "text": [
      "[src/libmpg123/id3.c:process_comment():584] error: No comment text / valid description?\n"
     ]
    },
    {
     "name": "stdout",
     "output_type": "stream",
     "text": [
      "13\n",
      "14\n",
      "6\n",
      "10\n",
      "6\n",
      "9\n",
      "7\n",
      "13\n",
      "12\n",
      "6\n",
      "9\n",
      "4\n",
      "6\n",
      "5\n",
      "5\n"
     ]
    },
    {
     "name": "stderr",
     "output_type": "stream",
     "text": [
      "[src/libmpg123/layer3.c:INT123_do_layer3():1801] error: dequantization failed!\n",
      "Note: Illegal Audio-MPEG-Header 0x00000000 at offset 8848353.\n",
      "Note: Trying to resync...\n",
      "Note: Skipped 1024 bytes in input.\n",
      "[src/libmpg123/parse.c:wetwork():1365] error: Giving up resync after 1024 bytes - your stream is not nice... (maybe increasing resync limit could help).\n"
     ]
    },
    {
     "name": "stdout",
     "output_type": "stream",
     "text": [
      "9\n",
      "6\n",
      "19\n",
      "17\n",
      "4\n",
      "8\n",
      "7\n",
      "7\n",
      "9\n",
      "8\n",
      "8\n",
      "8\n",
      "9\n",
      "5\n",
      "8\n",
      "5\n",
      "12\n",
      "8\n",
      "5\n"
     ]
    },
    {
     "name": "stderr",
     "output_type": "stream",
     "text": [
      "[src/libmpg123/id3.c:process_comment():584] error: No comment text / valid description?\n"
     ]
    },
    {
     "name": "stdout",
     "output_type": "stream",
     "text": [
      "6\n",
      "10\n",
      "9\n",
      "6\n",
      "6\n",
      "18\n",
      "5\n"
     ]
    },
    {
     "name": "stderr",
     "output_type": "stream",
     "text": [
      "[src/libmpg123/id3.c:process_comment():584] error: No comment text / valid description?\n"
     ]
    },
    {
     "name": "stdout",
     "output_type": "stream",
     "text": [
      "5\n",
      "8\n",
      "7\n",
      "8\n",
      "4\n",
      "10\n",
      "6\n",
      "7\n",
      "6\n",
      "7\n",
      "10\n",
      "7\n",
      "9\n",
      "6\n",
      "3\n",
      "7\n",
      "8\n",
      "12\n",
      "8\n",
      "5\n",
      "5\n",
      "9\n",
      "10\n",
      "6\n",
      "7\n",
      "9\n",
      "7\n",
      "9\n",
      "5\n"
     ]
    },
    {
     "name": "stderr",
     "output_type": "stream",
     "text": [
      "Note: Illegal Audio-MPEG-Header 0x00000000 at offset 10147253.\n",
      "Note: Trying to resync...\n",
      "Note: Hit end of (available) data during resync.\n"
     ]
    },
    {
     "name": "stdout",
     "output_type": "stream",
     "text": [
      "8\n",
      "8\n"
     ]
    },
    {
     "name": "stderr",
     "output_type": "stream",
     "text": [
      "Note: Illegal Audio-MPEG-Header 0x46656174 at offset 5182435.\n",
      "Note: Trying to resync...\n",
      "Note: Hit end of (available) data during resync.\n"
     ]
    },
    {
     "name": "stdout",
     "output_type": "stream",
     "text": [
      "7\n",
      "8\n",
      "7\n",
      "5\n",
      "7\n",
      "15\n",
      "12\n",
      "11\n",
      "29\n",
      "7\n",
      "5\n",
      "10\n"
     ]
    },
    {
     "name": "stderr",
     "output_type": "stream",
     "text": [
      "[src/libmpg123/id3.c:process_comment():584] error: No comment text / valid description?\n"
     ]
    },
    {
     "name": "stdout",
     "output_type": "stream",
     "text": [
      "10\n",
      "7\n"
     ]
    },
    {
     "name": "stderr",
     "output_type": "stream",
     "text": [
      "Note: Illegal Audio-MPEG-Header 0x4c595249 at offset 18882356.\n",
      "Note: Trying to resync...\n",
      "Note: Hit end of (available) data during resync.\n"
     ]
    },
    {
     "name": "stdout",
     "output_type": "stream",
     "text": [
      "15\n",
      "15\n",
      "8\n",
      "5\n",
      "6\n",
      "19\n",
      "9\n",
      "14\n",
      "9\n"
     ]
    },
    {
     "name": "stderr",
     "output_type": "stream",
     "text": [
      "[src/libmpg123/id3.c:process_comment():584] error: No comment text / valid description?\n"
     ]
    },
    {
     "name": "stdout",
     "output_type": "stream",
     "text": [
      "9\n",
      "7\n",
      "5\n",
      "7\n",
      "12\n",
      "8\n",
      "20\n",
      "9\n",
      "8\n",
      "17\n",
      "8\n",
      "8\n",
      "9\n",
      "8\n",
      "5\n",
      "8\n",
      "7\n",
      "10\n",
      "28\n",
      "7\n",
      "8\n",
      "11\n",
      "7\n",
      "8\n",
      "6\n",
      "4\n"
     ]
    },
    {
     "name": "stderr",
     "output_type": "stream",
     "text": [
      "[src/libmpg123/id3.c:process_comment():584] error: No comment text / valid description?\n"
     ]
    },
    {
     "name": "stdout",
     "output_type": "stream",
     "text": [
      "6\n",
      "12\n",
      "8\n",
      "14\n",
      "9\n",
      "10\n",
      "9\n",
      "11\n",
      "9\n",
      "9\n",
      "15\n",
      "8\n",
      "4\n",
      "10\n",
      "7\n",
      "7\n",
      "5\n",
      "5\n",
      "9\n",
      "7\n",
      "10\n",
      "6\n",
      "7\n",
      "8\n",
      "12\n",
      "6\n",
      "7\n",
      "9\n"
     ]
    },
    {
     "name": "stderr",
     "output_type": "stream",
     "text": [
      "Note: Illegal Audio-MPEG-Header 0x4c595249 at offset 10880470.\n",
      "Note: Trying to resync...\n",
      "Note: Hit end of (available) data during resync.\n"
     ]
    },
    {
     "name": "stdout",
     "output_type": "stream",
     "text": [
      "8\n",
      "10\n",
      "5\n",
      "11\n",
      "16\n",
      "7\n",
      "9\n",
      "6\n",
      "9\n",
      "8\n",
      "6\n",
      "8\n",
      "9\n",
      "6\n",
      "15\n",
      "5\n",
      "10\n",
      "22\n",
      "6\n",
      "8\n"
     ]
    },
    {
     "name": "stderr",
     "output_type": "stream",
     "text": [
      "Note: Illegal Audio-MPEG-Header 0x00000000 at offset 10986313.\n",
      "Note: Trying to resync...\n",
      "Note: Hit end of (available) data during resync.\n"
     ]
    },
    {
     "name": "stdout",
     "output_type": "stream",
     "text": [
      "9\n",
      "9\n",
      "14\n",
      "16\n",
      "10\n",
      "6\n",
      "4\n",
      "4\n",
      "18\n",
      "9\n",
      "6\n",
      "6\n",
      "7\n",
      "14\n",
      "8\n",
      "6\n",
      "15\n",
      "6\n",
      "9\n",
      "7\n",
      "12\n",
      "10\n",
      "8\n",
      "7\n",
      "10\n"
     ]
    }
   ],
   "source": [
    "genre = \"non_prog\"\n",
    "# count = 0\n",
    "# time_series_length = 30\n",
    "\n",
    "\n",
    "for i in range (len(non_prog_files)):\n",
    "    filename = non_prog_files[i]\n",
    "    name = (filename.split('/')[-1]).replace(\" \", \"_\")\n",
    "\n",
    "    try: \n",
    "        y, sr = librosa.load(filename, sr=fixed_sample_rate)\n",
    "        time = librosa.get_duration(y=y, sr=sr)\n",
    "        chunks = []\n",
    "        if time > min_duration:\n",
    "            org_y = y\n",
    "            iter = math.floor (time /min_duration)\n",
    "            print(iter)\n",
    "            current_size = time*fixed_sample_rate\n",
    "            chunk_size = min_duration*fixed_sample_rate\n",
    "            start = 0\n",
    "            end = chunk_size\n",
    "            chunk_index = 1\n",
    "\n",
    "            while iter !=0: \n",
    "                count += 1\n",
    "                chunk = y[start:end]\n",
    "\n",
    "                chroma_stft = librosa.feature.chroma_stft(y=chunk, sr=sr)\n",
    "                spec_cent = librosa.feature.spectral_centroid(y=chunk, sr=sr)\n",
    "                spec_bw = librosa.feature.spectral_bandwidth(y=chunk, sr=sr)\n",
    "                rmse = librosa.feature.rms(y=chunk)\n",
    "                rolloff = librosa.feature.spectral_rolloff(y=chunk, sr=sr)\n",
    "                zcr = 10**10*np.mean(librosa.zero_crossings(org_y)/len(org_y))\n",
    "                mfcc = librosa.feature.mfcc(y=chunk, sr=sr)\n",
    "                to_append = f'{\"nonprog\"+name+\"chunk\"+str(chunk_index)} {genre} {np.mean(chroma_stft)} {np.mean(rmse)} {np.mean(spec_cent)} {np.mean(spec_bw)} {np.mean(rolloff)} {np.mean(zcr)}'\n",
    "\n",
    "                # append all the 20 rows\n",
    "                for e in mfcc:\n",
    "                    to_append += f' {np.mean(e)}'\n",
    "                \n",
    "                file = open('training_features_30.csv', 'a', newline='')\n",
    "                with file:\n",
    "                    writer = csv.writer(file)\n",
    "                    writer.writerow(to_append.split())\n",
    "\n",
    "                \n",
    "                # display spectrogram\n",
    "                \n",
    "                # spect = librosa.feature.melspectrogram(y=chunk, sr=sr, n_fft=2048, hop_length=512)\n",
    "                # spect = librosa.power_to_db(spect, ref=np.max)\n",
    "                # plt.figure(figsize=(12, 8))\n",
    "                # plit.axis('off')\n",
    "                # librosa.display.specshow(spect, y_axis='mel', fmax=8000, x_axis='time')\n",
    "                # plt.show()\n",
    "                \n",
    "                chunk_index += 1\n",
    "\n",
    "                start = end\n",
    "                end = end + chunk_size\n",
    "                iter -= 1\n",
    "        else :\n",
    "            count += 1\n",
    "            y, sr = librosa.load(filename, sr=fixed_sample_rate, duration=min_duration)\n",
    "            chroma_stft = librosa.feature.chroma_stft(y=y, sr=sr)\n",
    "            spec_cent = librosa.feature.spectral_centroid(y=y, sr=sr)\n",
    "            spec_bw = librosa.feature.spectral_bandwidth(y=y, sr=sr)\n",
    "            rmse = librosa.feature.rms(y=y)\n",
    "            rolloff = librosa.feature.spectral_rolloff(y=y, sr=sr)\n",
    "            zcr = 10**10*np.mean(librosa.zero_crossings(y)/len(y))\n",
    "            mfcc = librosa.feature.mfcc(y=y, sr=sr)\n",
    "            to_append = f'{\"nonprog\"+name} {genre} {np.mean(chroma_stft)} {np.mean(rmse)} {np.mean(spec_cent)} {np.mean(spec_bw)} {np.mean(rolloff)} {np.mean(zcr)}'\n",
    "\n",
    "            # append all the 20 rows\n",
    "            for e in mfcc:\n",
    "                to_append += f' {np.mean(e)}'\n",
    "            \n",
    "            file = open('training_features_30.csv', 'a', newline='')\n",
    "            with file:\n",
    "                writer = csv.writer(file)\n",
    "                writer.writerow(to_append.split())\n",
    "\n",
    "            \n",
    "            # display spectrogram\n",
    "            # spect = librosa.feature.melspectrogram(y=y, sr=sr, n_fft=2048, hop_length=512)\n",
    "            # spect = librosa.power_to_db(spect, ref=np.max)\n",
    "            # plt.figure(figsize=(12, 8))\n",
    "            # plt.axis('off')\n",
    "            # librosa.display.specshow(spect, y_axis='mel', fmax=8000, x_axis='time')\n",
    "            # plt.show()\n",
    "    \n",
    "    except Exception as e:\n",
    "        print('error handled')\n",
    "        error_file = open('error.txt', 'a')\n",
    "        error_file.write(filename + '\\n')\n",
    "        error_file.write(str(e) + '\\n')\n",
    "        error_file.close()\n",
    "        continue\n",
    "                    "
   ]
  },
  {
   "cell_type": "code",
   "execution_count": null,
   "metadata": {},
   "outputs": [],
   "source": []
  }
 ],
 "metadata": {
  "kernelspec": {
   "display_name": "Progect-tV540T77",
   "language": "python",
   "name": "python3"
  },
  "language_info": {
   "codemirror_mode": {
    "name": "ipython",
    "version": 3
   },
   "file_extension": ".py",
   "mimetype": "text/x-python",
   "name": "python",
   "nbconvert_exporter": "python",
   "pygments_lexer": "ipython3",
   "version": "3.11.8"
  }
 },
 "nbformat": 4,
 "nbformat_minor": 2
}
