{
 "cells": [
  {
   "cell_type": "code",
   "execution_count": 16,
   "metadata": {},
   "outputs": [],
   "source": [
    "import csv\n",
    "import sys\n",
    "import math\n",
    "import os\n",
    "import librosa\n",
    "import numpy as np\n",
    "import matplotlib\n",
    "matplotlib.use('TkAgg')\n",
    "import matplotlib.pyplot as plt\n",
    "sys.setrecursionlimit(10000)\n"
   ]
  },
  {
   "cell_type": "code",
   "execution_count": 17,
   "metadata": {},
   "outputs": [],
   "source": [
    "import glob\n",
    "import os\n",
    "# reading training data\n",
    "current_working_directory = os.getcwd()\n",
    "\n",
    "base_path = current_working_directory + '/CAP6610SP24_test_set/'\n",
    "prog_path = base_path + 'Progressive Rock Songs/'\n",
    "non_prog_path = base_path + 'Not_Progressive_Rock/'\n",
    "\n",
    "def fileList(path):\n",
    "    matches = glob.glob(path + '/**/*', recursive=True)\n",
    "    files = [file for file in matches if os.path.isfile(file) and file.endswith(('.wav', '.mp3', '.avi', '.flac', '.ogg', '.m4a', '.wma', '.mp4'))]\n",
    "    return files\n",
    "\n",
    "prog_files = fileList(prog_path)\n",
    "non_prog_files = fileList(non_prog_path)\n",
    "\n",
    "def get_prog_files():\n",
    "    return prog_files\n",
    "\n",
    "def get_non_prog_files():\n",
    "    return non_prog_files"
   ]
  },
  {
   "cell_type": "code",
   "execution_count": 18,
   "metadata": {},
   "outputs": [
    {
     "name": "stdout",
     "output_type": "stream",
     "text": [
      "Number of Progressive Rock Songs:  136\n",
      "Number of Non-Progressive Rock Songs:  131\n"
     ]
    }
   ],
   "source": [
    "prog_files = get_prog_files()\n",
    "non_prog_files = get_non_prog_files()\n",
    "\n",
    "print(\"Number of Progressive Rock Songs: \", len(prog_files))\n",
    "print(\"Number of Non-Progressive Rock Songs: \", len(non_prog_files))"
   ]
  },
  {
   "cell_type": "code",
   "execution_count": 19,
   "metadata": {},
   "outputs": [
    {
     "name": "stderr",
     "output_type": "stream",
     "text": [
      "[src/libmpg123/id3.c:process_comment():584] error: No comment text / valid description?\n",
      "[src/libmpg123/id3.c:process_comment():584] error: No comment text / valid description?\n",
      "[src/libmpg123/id3.c:process_comment():584] error: No comment text / valid description?\n",
      "[src/libmpg123/id3.c:process_comment():584] error: No comment text / valid description?\n",
      "[src/libmpg123/id3.c:process_comment():584] error: No comment text / valid description?\n",
      "Note: Illegal Audio-MPEG-Header 0x41475061 at offset 23269468.\n",
      "Note: Trying to resync...\n",
      "Note: Hit end of (available) data during resync.\n",
      "[src/libmpg123/id3.c:process_comment():584] error: No comment text / valid description?\n",
      "[src/libmpg123/id3.c:process_comment():584] error: No comment text / valid description?\n",
      "/var/folders/m0/0p062cxn2rvbyqh1m3h8cb4c0000gn/T/ipykernel_75322/4035985224.py:7: UserWarning: PySoundFile failed. Trying audioread instead.\n",
      "  y, sr = librosa.load(all_files[i], sr=fixed_sample_rate)\n",
      "[src/libmpg123/id3.c:process_comment():584] error: No comment text / valid description?\n",
      "[src/libmpg123/id3.c:process_comment():584] error: No comment text / valid description?\n",
      "[src/libmpg123/id3.c:process_comment():584] error: No comment text / valid description?\n",
      "Note: Illegal Audio-MPEG-Header 0x20202020 at offset 4065165.\n",
      "Note: Trying to resync...\n",
      "Note: Skipped 1024 bytes in input.\n",
      "[src/libmpg123/parse.c:wetwork():1365] error: Giving up resync after 1024 bytes - your stream is not nice... (maybe increasing resync limit could help).\n",
      "Note: Illegal Audio-MPEG-Header 0x69726420 at offset 6205317.\n",
      "Note: Trying to resync...\n",
      "Note: Hit end of (available) data during resync.\n",
      "Note: Illegal Audio-MPEG-Header 0x00000000 at offset 6074356.\n",
      "Note: Trying to resync...\n",
      "Note: Hit end of (available) data during resync.\n",
      "[src/libmpg123/id3.c:process_extra():681] error: No extra frame text / valid description?\n",
      "[src/libmpg123/layer3.c:INT123_do_layer3():1841] error: dequantization failed!\n",
      "[src/libmpg123/id3.c:process_comment():584] error: No comment text / valid description?\n",
      "[src/libmpg123/id3.c:INT123_parse_new_id3():1086] error: Whoa! ID3v2 frame claims to be larger than the whole rest of the tag.\n",
      "[src/libmpg123/id3.c:process_comment():584] error: No comment text / valid description?\n",
      "/var/folders/m0/0p062cxn2rvbyqh1m3h8cb4c0000gn/T/ipykernel_75322/4035985224.py:7: UserWarning: PySoundFile failed. Trying audioread instead.\n",
      "  y, sr = librosa.load(all_files[i], sr=fixed_sample_rate)\n",
      "/Users/harlow/.local/share/virtualenvs/Harshit-ikHQR9cv/lib/python3.11/site-packages/librosa/core/audio.py:183: FutureWarning: librosa.core.audio.__audioread_load\n",
      "\tDeprecated as of librosa version 0.10.0.\n",
      "\tIt will be removed in librosa version 1.0.\n",
      "  y, sr_native = __audioread_load(path, offset, duration, dtype)\n"
     ]
    },
    {
     "name": "stdout",
     "output_type": "stream",
     "text": [
      "Minimum Duration:  125\n"
     ]
    }
   ],
   "source": [
    "all_files = prog_files + non_prog_files\n",
    "fixed_sample_rate = 44100\n",
    "\n",
    "\n",
    "min_duration = 0\n",
    "for i in range (len(all_files)):\n",
    "    y, sr = librosa.load(all_files[i], sr=fixed_sample_rate)\n",
    "    duration = librosa.get_duration(y=y, sr=sr)\n",
    "    if i == 0:\n",
    "        min_duration = duration\n",
    "    else:\n",
    "        min_duration = min(min_duration, duration)\n",
    "min_duration = int(math.floor(min_duration))\n",
    "print(\"Minimum Duration: \", min_duration)\n"
   ]
  },
  {
   "cell_type": "code",
   "execution_count": 20,
   "metadata": {},
   "outputs": [
    {
     "name": "stdout",
     "output_type": "stream",
     "text": [
      "51\n",
      "38\n",
      "76\n",
      "146\n",
      "83\n",
      "57\n",
      "30\n",
      "66\n",
      "84\n",
      "38\n",
      "63\n",
      "61\n",
      "70\n",
      "41\n",
      "74\n",
      "23\n",
      "28\n",
      "134\n",
      "32\n",
      "34\n",
      "34\n",
      "27\n",
      "42\n",
      "62\n"
     ]
    },
    {
     "name": "stderr",
     "output_type": "stream",
     "text": [
      "[src/libmpg123/id3.c:process_comment():584] error: No comment text / valid description?\n"
     ]
    },
    {
     "name": "stdout",
     "output_type": "stream",
     "text": [
      "54\n",
      "60\n",
      "38\n",
      "34\n",
      "52\n",
      "52\n",
      "57\n",
      "54\n",
      "64\n",
      "32\n",
      "93\n",
      "56\n",
      "51\n",
      "31\n",
      "42\n",
      "36\n",
      "46\n",
      "39\n",
      "142\n"
     ]
    },
    {
     "name": "stderr",
     "output_type": "stream",
     "text": [
      "/Users/harlow/.local/share/virtualenvs/Harshit-ikHQR9cv/lib/python3.11/site-packages/librosa/core/pitch.py:101: UserWarning: Trying to estimate tuning from empty frequency set.\n",
      "  return pitch_tuning(\n"
     ]
    },
    {
     "name": "stdout",
     "output_type": "stream",
     "text": [
      "47\n",
      "36\n",
      "76\n",
      "56\n",
      "29\n",
      "34\n",
      "68\n",
      "82\n",
      "27\n",
      "32\n",
      "48\n",
      "38\n",
      "39\n",
      "40\n",
      "57\n",
      "39\n",
      "64\n",
      "57\n",
      "39\n",
      "38\n"
     ]
    },
    {
     "name": "stderr",
     "output_type": "stream",
     "text": [
      "[src/libmpg123/id3.c:process_comment():584] error: No comment text / valid description?\n"
     ]
    },
    {
     "name": "stdout",
     "output_type": "stream",
     "text": [
      "68\n",
      "27\n",
      "54\n",
      "66\n",
      "42\n",
      "67\n",
      "92\n"
     ]
    },
    {
     "name": "stderr",
     "output_type": "stream",
     "text": [
      "[src/libmpg123/id3.c:process_comment():584] error: No comment text / valid description?\n"
     ]
    },
    {
     "name": "stdout",
     "output_type": "stream",
     "text": [
      "47\n",
      "65\n",
      "44\n",
      "61\n",
      "60\n",
      "68\n",
      "70\n",
      "48\n",
      "59\n",
      "60\n",
      "66\n",
      "24\n",
      "35\n",
      "38\n",
      "62\n",
      "123\n",
      "56\n",
      "16\n",
      "37\n",
      "55\n",
      "40\n",
      "24\n",
      "24\n",
      "21\n",
      "27\n",
      "60\n"
     ]
    },
    {
     "name": "stderr",
     "output_type": "stream",
     "text": [
      "[src/libmpg123/id3.c:process_comment():584] error: No comment text / valid description?\n"
     ]
    },
    {
     "name": "stdout",
     "output_type": "stream",
     "text": [
      "54\n"
     ]
    },
    {
     "name": "stderr",
     "output_type": "stream",
     "text": [
      "[src/libmpg123/id3.c:process_comment():584] error: No comment text / valid description?\n"
     ]
    },
    {
     "name": "stdout",
     "output_type": "stream",
     "text": [
      "19\n",
      "34\n",
      "67\n",
      "53\n",
      "55\n",
      "81\n",
      "45\n",
      "47\n",
      "44\n"
     ]
    },
    {
     "name": "stderr",
     "output_type": "stream",
     "text": [
      "Note: Illegal Audio-MPEG-Header 0x41475061 at offset 23269468.\n",
      "Note: Trying to resync...\n",
      "Note: Hit end of (available) data during resync.\n"
     ]
    },
    {
     "name": "stdout",
     "output_type": "stream",
     "text": [
      "116\n",
      "31\n",
      "53\n"
     ]
    },
    {
     "name": "stderr",
     "output_type": "stream",
     "text": [
      "[src/libmpg123/id3.c:process_comment():584] error: No comment text / valid description?\n"
     ]
    },
    {
     "name": "stdout",
     "output_type": "stream",
     "text": [
      "33\n",
      "38\n"
     ]
    },
    {
     "name": "stderr",
     "output_type": "stream",
     "text": [
      "[src/libmpg123/id3.c:process_comment():584] error: No comment text / valid description?\n"
     ]
    },
    {
     "name": "stdout",
     "output_type": "stream",
     "text": [
      "84\n",
      "54\n",
      "34\n",
      "40\n"
     ]
    },
    {
     "name": "stderr",
     "output_type": "stream",
     "text": [
      "/var/folders/m0/0p062cxn2rvbyqh1m3h8cb4c0000gn/T/ipykernel_75322/330505950.py:27: UserWarning: PySoundFile failed. Trying audioread instead.\n",
      "  y, sr = librosa.load(filename, sr=fixed_sample_rate)\n"
     ]
    },
    {
     "name": "stdout",
     "output_type": "stream",
     "text": [
      "32\n",
      "39\n",
      "29\n",
      "60\n",
      "36\n",
      "44\n",
      "65\n"
     ]
    },
    {
     "name": "stderr",
     "output_type": "stream",
     "text": [
      "[src/libmpg123/id3.c:process_comment():584] error: No comment text / valid description?\n"
     ]
    },
    {
     "name": "stdout",
     "output_type": "stream",
     "text": [
      "58\n",
      "33\n",
      "81\n",
      "84\n",
      "37\n",
      "21\n",
      "104\n",
      "44\n",
      "53\n"
     ]
    },
    {
     "name": "stderr",
     "output_type": "stream",
     "text": [
      "[src/libmpg123/id3.c:process_comment():584] error: No comment text / valid description?\n"
     ]
    },
    {
     "name": "stdout",
     "output_type": "stream",
     "text": [
      "58\n"
     ]
    },
    {
     "name": "stderr",
     "output_type": "stream",
     "text": [
      "[src/libmpg123/id3.c:process_comment():584] error: No comment text / valid description?\n"
     ]
    },
    {
     "name": "stdout",
     "output_type": "stream",
     "text": [
      "54\n",
      "66\n",
      "103\n",
      "74\n"
     ]
    }
   ],
   "source": [
    "# feature extraction\n",
    "min_duration = 10\n",
    "\n",
    "file = open('test_features_10.csv', 'w', newline='')\n",
    "header = ['filename','genre', 'chroma_stft', 'rmse', 'spectral_centroid', 'spectral_bandwidth', 'rolloff', 'zero_crossing_rate']\n",
    "\n",
    "for i in range (1, 21):\n",
    "    header.append('mfcc'+str(i))\n",
    "\n",
    "# writing giles to error.txt\n",
    "error_file = open('error.txt', 'w')\n",
    "error_file.close()\n",
    "with file:\n",
    "    writer = csv.writer(file)\n",
    "    writer.writerow(header)\n",
    "\n",
    "genre = \"prog\"\n",
    "count = 0\n",
    "# time_series_length = 30\n",
    "\n",
    "\n",
    "for i in range (len(prog_files)):\n",
    "    filename = prog_files[i]\n",
    "    name = (filename.split('/')[-1]).replace(\" \", \"_\")\n",
    "\n",
    "    try: \n",
    "        y, sr = librosa.load(filename, sr=fixed_sample_rate)\n",
    "        time = librosa.get_duration(y=y, sr=sr)\n",
    "        chunks = []\n",
    "        if time > min_duration:\n",
    "            org_y = y\n",
    "            iter = math.floor (time /min_duration)\n",
    "            print(iter)\n",
    "            current_size = time*fixed_sample_rate\n",
    "            chunk_size = min_duration*fixed_sample_rate\n",
    "            start = 0\n",
    "            end = chunk_size\n",
    "            chunk_index = 1\n",
    "\n",
    "            while iter !=0: \n",
    "                count += 1\n",
    "                chunk = y[start:end]\n",
    "\n",
    "                chroma_stft = librosa.feature.chroma_stft(y=chunk, sr=sr)\n",
    "                spec_cent = librosa.feature.spectral_centroid(y=chunk, sr=sr)\n",
    "                spec_bw = librosa.feature.spectral_bandwidth(y=chunk, sr=sr)\n",
    "                rmse = librosa.feature.rms(y=chunk)\n",
    "                rolloff = librosa.feature.spectral_rolloff(y=chunk, sr=sr)\n",
    "                zcr = 10**10*np.mean(librosa.zero_crossings(org_y)/len(org_y))\n",
    "                mfcc = librosa.feature.mfcc(y=chunk, sr=sr)\n",
    "                to_append = f'{\"prog\"+name+\"chunk\"+str(chunk_index)} {genre} {np.mean(chroma_stft)} {np.mean(rmse)} {np.mean(spec_cent)} {np.mean(spec_bw)} {np.mean(rolloff)} {np.mean(zcr)}'\n",
    "\n",
    "                # append all the 20 rows\n",
    "                for e in mfcc:\n",
    "                    to_append += f' {np.mean(e)}'\n",
    "                \n",
    "                file = open('test_features_10.csv', 'a', newline='')\n",
    "                with file:\n",
    "                    writer = csv.writer(file)\n",
    "                    writer.writerow(to_append.split())\n",
    "\n",
    "                \n",
    "                # display spectrogram\n",
    "                \n",
    "                # spect = librosa.feature.melspectrogram(y=chunk, sr=sr, n_fft=2048, hop_length=512)\n",
    "                # spect = librosa.power_to_db(spect, ref=np.max)\n",
    "                # plt.figure(figsize=(12, 8))\n",
    "                # plit.axis('off')\n",
    "                # librosa.display.specshow(spect, y_axis='mel', fmax=8000, x_axis='time')\n",
    "                # plt.show()\n",
    "                \n",
    "                chunk_index += 1\n",
    "\n",
    "                start = end\n",
    "                end = end + chunk_size\n",
    "                iter -= 1\n",
    "        else :\n",
    "            count += 1\n",
    "            y, sr = librosa.load(filename, sr=fixed_sample_rate, duration=min_duration)\n",
    "            chroma_stft = librosa.feature.chroma_stft(y=y, sr=sr)\n",
    "            spec_cent = librosa.feature.spectral_centroid(y=y, sr=sr)\n",
    "            spec_bw = librosa.feature.spectral_bandwidth(y=y, sr=sr)\n",
    "            rmse = librosa.feature.rms(y=y)\n",
    "            rolloff = librosa.feature.spectral_rolloff(y=y, sr=sr)\n",
    "            zcr = 10**10*np.mean(librosa.zero_crossings(y)/len(y))\n",
    "            mfcc = librosa.feature.mfcc(y=y, sr=sr)\n",
    "            to_append = f'{\"prog\"+name} {genre} {np.mean(chroma_stft)} {np.mean(rmse)} {np.mean(spec_cent)} {np.mean(spec_bw)} {np.mean(rolloff)} {np.mean(zcr)}'\n",
    "\n",
    "            # append all the 20 rows\n",
    "            for e in mfcc:\n",
    "                to_append += f' {np.mean(e)}'\n",
    "            \n",
    "            file = open('test_features_10.csv', 'a', newline='')\n",
    "            with file:\n",
    "                writer = csv.writer(file)\n",
    "                writer.writerow(to_append.split())\n",
    "\n",
    "            \n",
    "            # display spectrogram\n",
    "            # spect = librosa.feature.melspectrogram(y=y, sr=sr, n_fft=2048, hop_length=512)\n",
    "            # spect = librosa.power_to_db(spect, ref=np.max)\n",
    "            # plt.figure(figsize=(12, 8))\n",
    "            # plt.axis('off')\n",
    "            # librosa.display.specshow(spect, y_axis='mel', fmax=8000, x_axis='time')\n",
    "            # plt.show()\n",
    "    \n",
    "    except Exception as e:\n",
    "        print('error handled')\n",
    "        error_file = open('error.txt', 'a')\n",
    "        error_file.write(filename + '\\n')\n",
    "        error_file.write(str(e) + '\\n')\n",
    "        error_file.close()\n",
    "        continue\n",
    "                    \n",
    "\n"
   ]
  },
  {
   "cell_type": "code",
   "execution_count": 21,
   "metadata": {},
   "outputs": [
    {
     "name": "stdout",
     "output_type": "stream",
     "text": [
      "153\n"
     ]
    },
    {
     "name": "stderr",
     "output_type": "stream",
     "text": [
      "Note: Illegal Audio-MPEG-Header 0x20202020 at offset 4065165.\n",
      "Note: Trying to resync...\n",
      "/var/folders/m0/0p062cxn2rvbyqh1m3h8cb4c0000gn/T/ipykernel_75322/3450540172.py:11: UserWarning: PySoundFile failed. Trying audioread instead.\n",
      "  y, sr = librosa.load(filename, sr=fixed_sample_rate)\n",
      "Note: Skipped 1024 bytes in input.\n",
      "[src/libmpg123/parse.c:wetwork():1365] error: Giving up resync after 1024 bytes - your stream is not nice... (maybe increasing resync limit could help).\n"
     ]
    },
    {
     "name": "stdout",
     "output_type": "stream",
     "text": [
      "25\n",
      "27\n"
     ]
    },
    {
     "name": "stderr",
     "output_type": "stream",
     "text": [
      "Note: Illegal Audio-MPEG-Header 0x69726420 at offset 6205317.\n",
      "Note: Trying to resync...\n",
      "Note: Hit end of (available) data during resync.\n"
     ]
    },
    {
     "name": "stdout",
     "output_type": "stream",
     "text": [
      "38\n",
      "53\n",
      "36\n",
      "16\n",
      "22\n",
      "28\n",
      "33\n"
     ]
    },
    {
     "name": "stderr",
     "output_type": "stream",
     "text": [
      "Note: Illegal Audio-MPEG-Header 0x00000000 at offset 6074356.\n",
      "Note: Trying to resync...\n",
      "Note: Hit end of (available) data during resync.\n"
     ]
    },
    {
     "name": "stdout",
     "output_type": "stream",
     "text": [
      "24\n",
      "31\n",
      "44\n",
      "23\n",
      "29\n",
      "23\n",
      "29\n",
      "44\n",
      "22\n",
      "23\n",
      "37\n",
      "25\n",
      "14\n",
      "23\n",
      "35\n",
      "22\n",
      "38\n",
      "28\n",
      "22\n"
     ]
    },
    {
     "name": "stderr",
     "output_type": "stream",
     "text": [
      "[src/libmpg123/id3.c:process_extra():681] error: No extra frame text / valid description?\n"
     ]
    },
    {
     "name": "stdout",
     "output_type": "stream",
     "text": [
      "20\n",
      "21\n",
      "30\n",
      "21\n",
      "21\n",
      "84\n",
      "25\n",
      "30\n",
      "15\n",
      "25\n",
      "19\n",
      "16\n",
      "22\n",
      "17\n",
      "40\n",
      "50\n",
      "21\n",
      "49\n",
      "47\n",
      "19\n",
      "12\n",
      "24\n",
      "50\n",
      "20\n",
      "40\n",
      "20\n",
      "93\n",
      "24\n",
      "37\n",
      "27\n",
      "14\n",
      "21\n",
      "35\n",
      "20\n",
      "23\n",
      "23\n",
      "69\n",
      "34\n",
      "32\n",
      "60\n",
      "29\n",
      "26\n",
      "28\n",
      "42\n",
      "38\n",
      "41\n",
      "15\n",
      "16\n",
      "18\n",
      "17\n",
      "37\n",
      "47\n",
      "23\n",
      "33\n",
      "18\n",
      "54\n",
      "33\n"
     ]
    },
    {
     "name": "stderr",
     "output_type": "stream",
     "text": [
      "[src/libmpg123/layer3.c:INT123_do_layer3():1841] error: dequantization failed!\n"
     ]
    },
    {
     "name": "stdout",
     "output_type": "stream",
     "text": [
      "23\n",
      "32\n",
      "56\n",
      "35\n",
      "18\n",
      "24\n",
      "33\n",
      "24\n"
     ]
    },
    {
     "name": "stderr",
     "output_type": "stream",
     "text": [
      "[src/libmpg123/id3.c:process_comment():584] error: No comment text / valid description?\n"
     ]
    },
    {
     "name": "stdout",
     "output_type": "stream",
     "text": [
      "25\n",
      "49\n",
      "28\n",
      "32\n",
      "21\n",
      "30\n",
      "21\n",
      "36\n",
      "20\n",
      "19\n",
      "34\n",
      "43\n",
      "40\n",
      "25\n",
      "24\n",
      "21\n",
      "22\n",
      "27\n",
      "24\n",
      "68\n"
     ]
    },
    {
     "name": "stderr",
     "output_type": "stream",
     "text": [
      "[src/libmpg123/id3.c:INT123_parse_new_id3():1086] error: Whoa! ID3v2 frame claims to be larger than the whole rest of the tag.\n"
     ]
    },
    {
     "name": "stdout",
     "output_type": "stream",
     "text": [
      "38\n",
      "16\n",
      "22\n",
      "18\n",
      "43\n",
      "21\n",
      "36\n",
      "48\n"
     ]
    },
    {
     "name": "stderr",
     "output_type": "stream",
     "text": [
      "[src/libmpg123/id3.c:process_comment():584] error: No comment text / valid description?\n",
      "/var/folders/m0/0p062cxn2rvbyqh1m3h8cb4c0000gn/T/ipykernel_75322/3450540172.py:11: UserWarning: PySoundFile failed. Trying audioread instead.\n",
      "  y, sr = librosa.load(filename, sr=fixed_sample_rate)\n",
      "/Users/harlow/.local/share/virtualenvs/Harshit-ikHQR9cv/lib/python3.11/site-packages/librosa/core/audio.py:183: FutureWarning: librosa.core.audio.__audioread_load\n",
      "\tDeprecated as of librosa version 0.10.0.\n",
      "\tIt will be removed in librosa version 1.0.\n",
      "  y, sr_native = __audioread_load(path, offset, duration, dtype)\n"
     ]
    },
    {
     "name": "stdout",
     "output_type": "stream",
     "text": [
      "26\n",
      "60\n",
      "24\n",
      "159\n",
      "18\n",
      "20\n",
      "26\n",
      "198\n",
      "22\n"
     ]
    }
   ],
   "source": [
    "genre = \"non_prog\"\n",
    "# count = 0\n",
    "# time_series_length = 30\n",
    "\n",
    "\n",
    "for i in range (len(non_prog_files)):\n",
    "    filename = non_prog_files[i]\n",
    "    name = (filename.split('/')[-1]).replace(\" \", \"_\")\n",
    "\n",
    "    try: \n",
    "        y, sr = librosa.load(filename, sr=fixed_sample_rate)\n",
    "        time = librosa.get_duration(y=y, sr=sr)\n",
    "        chunks = []\n",
    "        if time > min_duration:\n",
    "            org_y = y\n",
    "            iter = math.floor (time /min_duration)\n",
    "            print(iter)\n",
    "            current_size = time*fixed_sample_rate\n",
    "            chunk_size = min_duration*fixed_sample_rate\n",
    "            start = 0\n",
    "            end = chunk_size\n",
    "            chunk_index = 1\n",
    "\n",
    "            while iter !=0: \n",
    "                count += 1\n",
    "                chunk = y[start:end]\n",
    "\n",
    "                chroma_stft = librosa.feature.chroma_stft(y=chunk, sr=sr)\n",
    "                spec_cent = librosa.feature.spectral_centroid(y=chunk, sr=sr)\n",
    "                spec_bw = librosa.feature.spectral_bandwidth(y=chunk, sr=sr)\n",
    "                rmse = librosa.feature.rms(y=chunk)\n",
    "                rolloff = librosa.feature.spectral_rolloff(y=chunk, sr=sr)\n",
    "                zcr = 10**10*np.mean(librosa.zero_crossings(org_y)/len(org_y))\n",
    "                mfcc = librosa.feature.mfcc(y=chunk, sr=sr)\n",
    "                to_append = f'{\"nonprog\"+name+\"chunk\"+str(chunk_index)} {genre} {np.mean(chroma_stft)} {np.mean(rmse)} {np.mean(spec_cent)} {np.mean(spec_bw)} {np.mean(rolloff)} {np.mean(zcr)}'\n",
    "\n",
    "                # append all the 20 rows\n",
    "                for e in mfcc:\n",
    "                    to_append += f' {np.mean(e)}'\n",
    "                \n",
    "                file = open('test_features_10.csv', 'a', newline='')\n",
    "                with file:\n",
    "                    writer = csv.writer(file)\n",
    "                    writer.writerow(to_append.split())\n",
    "\n",
    "                \n",
    "                # display spectrogram\n",
    "                \n",
    "                # spect = librosa.feature.melspectrogram(y=chunk, sr=sr, n_fft=2048, hop_length=512)\n",
    "                # spect = librosa.power_to_db(spect, ref=np.max)\n",
    "                # plt.figure(figsize=(12, 8))\n",
    "                # plit.axis('off')\n",
    "                # librosa.display.specshow(spect, y_axis='mel', fmax=8000, x_axis='time')\n",
    "                # plt.show()\n",
    "                \n",
    "                chunk_index += 1\n",
    "\n",
    "                start = end\n",
    "                end = end + chunk_size\n",
    "                iter -= 1\n",
    "        else :\n",
    "            count += 1\n",
    "            y, sr = librosa.load(filename, sr=fixed_sample_rate, duration=min_duration)\n",
    "            chroma_stft = librosa.feature.chroma_stft(y=y, sr=sr)\n",
    "            spec_cent = librosa.feature.spectral_centroid(y=y, sr=sr)\n",
    "            spec_bw = librosa.feature.spectral_bandwidth(y=y, sr=sr)\n",
    "            rmse = librosa.feature.rms(y=y)\n",
    "            rolloff = librosa.feature.spectral_rolloff(y=y, sr=sr)\n",
    "            zcr = 10**10*np.mean(librosa.zero_crossings(y)/len(y))\n",
    "            mfcc = librosa.feature.mfcc(y=y, sr=sr)\n",
    "            to_append = f'{\"nonprog\"+name} {genre} {np.mean(chroma_stft)} {np.mean(rmse)} {np.mean(spec_cent)} {np.mean(spec_bw)} {np.mean(rolloff)} {np.mean(zcr)}'\n",
    "\n",
    "            # append all the 20 rows\n",
    "            for e in mfcc:\n",
    "                to_append += f' {np.mean(e)}'\n",
    "            \n",
    "            file = open('test_features_10.csv', 'a', newline='')\n",
    "            with file:\n",
    "                writer = csv.writer(file)\n",
    "                writer.writerow(to_append.split())\n",
    "\n",
    "            \n",
    "            # display spectrogram\n",
    "            # spect = librosa.feature.melspectrogram(y=y, sr=sr, n_fft=2048, hop_length=512)\n",
    "            # spect = librosa.power_to_db(spect, ref=np.max)\n",
    "            # plt.figure(figsize=(12, 8))\n",
    "            # plt.axis('off')\n",
    "            # librosa.display.specshow(spect, y_axis='mel', fmax=8000, x_axis='time')\n",
    "            # plt.show()\n",
    "    \n",
    "    except Exception as e:\n",
    "        print('error handled')\n",
    "        error_file = open('error.txt', 'a')\n",
    "        error_file.write(filename + '\\n')\n",
    "        error_file.write(str(e) + '\\n')\n",
    "        error_file.close()\n",
    "        continue\n",
    "                    "
   ]
  }
 ],
 "metadata": {
  "kernelspec": {
   "display_name": "Harshit-ikHQR9cv",
   "language": "python",
   "name": "python3"
  },
  "language_info": {
   "codemirror_mode": {
    "name": "ipython",
    "version": 3
   },
   "file_extension": ".py",
   "mimetype": "text/x-python",
   "name": "python",
   "nbconvert_exporter": "python",
   "pygments_lexer": "ipython3",
   "version": "3.11.8"
  }
 },
 "nbformat": 4,
 "nbformat_minor": 2
}
